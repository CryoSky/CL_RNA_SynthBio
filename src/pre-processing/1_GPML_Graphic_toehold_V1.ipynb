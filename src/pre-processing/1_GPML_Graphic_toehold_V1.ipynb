{
 "cells": [
  {
   "cell_type": "code",
   "execution_count": 2,
   "metadata": {},
   "outputs": [
    {
     "name": "stderr",
     "output_type": "stream",
     "text": [
      "Using TensorFlow backend.\n"
     ]
    }
   ],
   "source": [
    "## Import Libraries\n",
    "# General system libraries\n",
    "import os\n",
    "import numpy as np\n",
    "import pandas as pd\n",
    "from time import time\n",
    "from IPython.display import Image\n",
    "\n",
    "# Multiprocessing\n",
    "import multiprocessing\n",
    "\n",
    "# DNA/RNA Analysis Libraries (Biopython, ViennaRNA, pysster) \n",
    "# Biopython Lib\n",
    "import Bio\n",
    "from Bio import SeqIO\n",
    "from Bio.Seq import Seq\n",
    "from Bio.SeqRecord import SeqRecord\n",
    "from Bio.Alphabet import generic_rna, generic_dna, generic_protein, IUPAC\n",
    "# ViennaRNA Lib\n",
    "import RNA\n",
    "# pysster Lib\n",
    "from pysster import utils\n",
    "from pysster.Data import Data\n",
    "from pysster.Grid_Search import Grid_Search\n",
    "from pysster.One_Hot_Encoder import One_Hot_Encoder\n",
    "from pysster.Alphabet_Encoder import Alphabet_Encoder\n",
    "#RNAssp\n",
    "import src.RNAssp.rna as rnassp\n",
    "\n",
    "# Import TPOT libs\n",
    "from tpot import TPOTRegressor\n",
    "\n",
    "# Import Tensorflow\n",
    "import tensorflow as tf\n",
    "\n",
    "# Import Keras\n",
    "from keras.models import Sequential, load_model\n",
    "from keras.layers import Activation, Dropout, Flatten, Dense, Input\n",
    "from keras.preprocessing import image\n",
    "from keras.applications.imagenet_utils import decode_predictions, preprocess_input\n",
    "from keras.preprocessing.image import ImageDataGenerator, img_to_array, load_img\n",
    "from keras.layers import Convolution2D, MaxPooling2D, ZeroPadding2D\n",
    "from keras import optimizers\n",
    "from keras import applications\n",
    "from keras.models import Model\n",
    "#from keras.utils import multi_gpu_model\n",
    "from keras.callbacks import EarlyStopping\n",
    "from keras_tqdm import TQDMNotebookCallback\n",
    "from keras.utils.np_utils import to_categorical   \n",
    "\n",
    "# Import sklearn libs\n",
    "from sklearn import preprocessing\n",
    "from sklearn.preprocessing import OneHotEncoder\n",
    "from sklearn.model_selection import train_test_split\n",
    "from sklearn.metrics import explained_variance_score, mean_absolute_error\n",
    "from sklearn.metrics import mean_squared_error, mean_squared_log_error\n",
    "from sklearn.metrics import median_absolute_error, r2_score\n",
    "\n",
    "# Math & Visualization Libs\n",
    "import seaborn as sns\n",
    "import matplotlib.pyplot as plt\n",
    "from scipy import stats\n",
    "\n",
    "# Warnings\n",
    "import warnings"
   ]
  },
  {
   "cell_type": "code",
   "execution_count": 3,
   "metadata": {},
   "outputs": [],
   "source": [
    "# Function definition to create complementary matrix of RNA molecule\n",
    "def one_hot_special_complementarity_directional_matrix(m, show=False):\n",
    "    \"\"\"Produce complementarity matrix for the given RNA molecule.\n",
    "    by Luis Soenksen 2019-02-01\n",
    "    Complementary bases (according to Watson-Crick) are assigned the following values:\n",
    "    G-C or C-G are assigned 3 = [0 0 0 1], \n",
    "    A-U or U-A are assigned 2 = [0 0 1 0],\n",
    "    G-U or U-G are assigned 1 = [0 1 0 0], \n",
    "    NonWCpairs are assigned 0 = [1 0 0 0],\n",
    "    G-C or C-G are assigned 3 = [0 0 0 1], \n",
    "    A-U or U-A are assigned 2 = [0 0 1 0],\n",
    "    G-U or U-G are assigned 1 = [0 1 0 0], \n",
    "    NonWCpairs are assigned 0 = [1 0 0 0],\n",
    "\n",
    "    Args:\n",
    "        m: Molecule object.\n",
    "        show (bool): Make a matrix plot of the result.\n",
    "\n",
    "    Returns:\n",
    "        p_oh: One-Hot Encoded Categorical Complementarity-directional Matrix\n",
    "        p: Categorical(integer) Complementarity-directional Matrix\n",
    "    \"\"\"\n",
    "    from keras.utils import to_categorical\n",
    "    \n",
    "    l = len(m.seq)\n",
    "    p = np.zeros((l, l), dtype='float64')\n",
    "    for i in range(l):\n",
    "        for j in range(l):\n",
    "            if m.seq[i] == 'G' and m.seq[j] == 'C' :\n",
    "                p[i, j] = 6\n",
    "            if m.seq[i] == 'A' and m.seq[j] == 'U' :\n",
    "                p[i, j] = 4  \n",
    "            if m.seq[i] == 'G' and m.seq[j] == 'U' :\n",
    "                p[i, j] = 2\n",
    "                \n",
    "            # By default... if m.seq[i] == m.seq[j] ; p[i, j] = 0\n",
    "            \n",
    "            if m.seq[i] == 'C' and m.seq[j] == 'G':\n",
    "                p[i, j] = 5\n",
    "            if m.seq[i] == 'U' and m.seq[j] == 'A':\n",
    "                p[i, j] = 3  \n",
    "            if m.seq[i] == 'U' and m.seq[j] == 'G':\n",
    "                p[i, j] = 1\n",
    "                \n",
    "    if show:\n",
    "        %matplotlib ipympl\n",
    "        fig = plt.figure()\n",
    "        ax = fig.add_subplot(111)\n",
    "        cmap = plt.get_cmap('jet', np.max(p)-np.min(p)+1)\n",
    "        pos = ax.matshow(p, interpolation='nearest', cmap=cmap)\n",
    "        ax.set_xticks(np.arange(l))\n",
    "        ax.set_yticks(np.arange(l))\n",
    "        ax.set_xticklabels([i for i in m.seq])\n",
    "        ax.set_yticklabels([i for i in m.seq])\n",
    "        \n",
    "       \n",
    "        # Add colorbar to make it easy to read the energy levels\n",
    "        cbar = plt.colorbar(pos, ticks=np.arange(np.min(p),np.max(p)+1))\n",
    "        plt.show()\n",
    "\n",
    "    p_oh = to_categorical(p[:,:])\n",
    "            \n",
    "    return p_oh, p"
   ]
  },
  {
   "cell_type": "code",
   "execution_count": 8,
   "metadata": {},
   "outputs": [
    {
     "name": "stdout",
     "output_type": "stream",
     "text": [
      "GAGUAGUGGAACCAGGCUAUGUUUGUGACUCGCAGACUAACA\n",
      "..(((((........)))))(((((((...)))))))..... [  -8.80 ]\n"
     ]
    },
    {
     "data": {
      "application/vnd.jupyter.widget-view+json": {
       "model_id": "e067b75b943b448ca8dd5a32908055a7",
       "version_major": 2,
       "version_minor": 0
      },
      "text/plain": [
       "FigureCanvasNbAgg()"
      ]
     },
     "metadata": {},
     "output_type": "display_data"
    },
    {
     "data": {
      "application/vnd.jupyter.widget-view+json": {
       "model_id": "4374dade87e047119736aeb1f1a0b39c",
       "version_major": 2,
       "version_minor": 0
      },
      "text/plain": [
       "FigureCanvasNbAgg()"
      ]
     },
     "metadata": {},
     "output_type": "display_data"
    }
   ],
   "source": [
    "# The RNA sequence\n",
    "seq = \"GAGUAGUGGAACCAGGCUAUGUUUGUGACUCGCAGACUAACA\"\n",
    "# compute minimum free energy (MFE) and corresponding structure\n",
    "(ss, mfe) = RNA.fold(seq)\n",
    "# print output\n",
    "print (\"%s\\n%s [ %6.2f ]\" % (seq, ss, mfe))\n",
    "\n",
    "#Show\n",
    "m = rnassp.Molecule(seq, ss)\n",
    "seq_pair = rnassp.pair_matrix(m, show=True)\n",
    "seq_p_oh, seq_p = one_hot_special_complementarity_directional_matrix(m, show=True)"
   ]
  },
  {
   "cell_type": "code",
   "execution_count": 35,
   "metadata": {},
   "outputs": [
    {
     "data": {
      "text/plain": [
       "array([[[1., 0., 0., ..., 0., 0., 0.],\n",
       "        [1., 0., 0., ..., 0., 0., 0.],\n",
       "        [1., 0., 0., ..., 0., 0., 0.],\n",
       "        ...,\n",
       "        [1., 0., 0., ..., 0., 0., 0.],\n",
       "        [0., 0., 0., ..., 0., 0., 1.],\n",
       "        [1., 0., 0., ..., 0., 0., 0.]],\n",
       "\n",
       "       [[1., 0., 0., ..., 0., 0., 0.],\n",
       "        [1., 0., 0., ..., 0., 0., 0.],\n",
       "        [1., 0., 0., ..., 0., 0., 0.],\n",
       "        ...,\n",
       "        [1., 0., 0., ..., 0., 0., 0.],\n",
       "        [1., 0., 0., ..., 0., 0., 0.],\n",
       "        [1., 0., 0., ..., 0., 0., 0.]],\n",
       "\n",
       "       [[1., 0., 0., ..., 0., 0., 0.],\n",
       "        [1., 0., 0., ..., 0., 0., 0.],\n",
       "        [1., 0., 0., ..., 0., 0., 0.],\n",
       "        ...,\n",
       "        [1., 0., 0., ..., 0., 0., 0.],\n",
       "        [0., 0., 0., ..., 0., 0., 1.],\n",
       "        [1., 0., 0., ..., 0., 0., 0.]],\n",
       "\n",
       "       ...,\n",
       "\n",
       "       [[1., 0., 0., ..., 0., 0., 0.],\n",
       "        [1., 0., 0., ..., 0., 0., 0.],\n",
       "        [1., 0., 0., ..., 0., 0., 0.],\n",
       "        ...,\n",
       "        [1., 0., 0., ..., 0., 0., 0.],\n",
       "        [1., 0., 0., ..., 0., 0., 0.],\n",
       "        [1., 0., 0., ..., 0., 0., 0.]],\n",
       "\n",
       "       [[0., 0., 0., ..., 0., 0., 0.],\n",
       "        [1., 0., 0., ..., 0., 0., 0.],\n",
       "        [0., 0., 0., ..., 0., 0., 0.],\n",
       "        ...,\n",
       "        [1., 0., 0., ..., 0., 0., 0.],\n",
       "        [1., 0., 0., ..., 0., 0., 0.],\n",
       "        [1., 0., 0., ..., 0., 0., 0.]],\n",
       "\n",
       "       [[1., 0., 0., ..., 0., 0., 0.],\n",
       "        [1., 0., 0., ..., 0., 0., 0.],\n",
       "        [1., 0., 0., ..., 0., 0., 0.],\n",
       "        ...,\n",
       "        [1., 0., 0., ..., 0., 0., 0.],\n",
       "        [1., 0., 0., ..., 0., 0., 0.],\n",
       "        [1., 0., 0., ..., 0., 0., 0.]]], dtype=float32)"
      ]
     },
     "execution_count": 35,
     "metadata": {},
     "output_type": "execute_result"
    }
   ],
   "source": [
    "#Check one-hot\n",
    "seq_p_oh"
   ]
  },
  {
   "cell_type": "code",
   "execution_count": null,
   "metadata": {},
   "outputs": [],
   "source": []
  }
 ],
 "metadata": {
  "kernelspec": {
   "display_name": "py35",
   "language": "python",
   "name": "py35"
  },
  "language_info": {
   "codemirror_mode": {
    "name": "ipython",
    "version": 3
   },
   "file_extension": ".py",
   "mimetype": "text/x-python",
   "name": "python",
   "nbconvert_exporter": "python",
   "pygments_lexer": "ipython3",
   "version": "3.5.6"
  },
  "widgets": {
   "state": {},
   "version": "1.1.2"
  }
 },
 "nbformat": 4,
 "nbformat_minor": 2
}
